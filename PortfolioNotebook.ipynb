{
 "cells": [
  {
   "cell_type": "markdown",
   "id": "0878c1ec",
   "metadata": {},
   "source": [
    "\n",
    "# <center><span style='font-family: Georgia; color:#088484' > Portfolio: Christian van der Zalm  </span> \n"
   ]
  },
  {
   "cell_type": "markdown",
   "id": "da3f0a47",
   "metadata": {},
   "source": [
    "<center><img src=\"Pictures/profile.PNG\" width=\"300\" /><center> \n",
    "    \n",
    "---"
   ]
  },
  {
   "cell_type": "markdown",
   "id": "5b7538a0",
   "metadata": {},
   "source": [
    "<center><span style='font-family: Georgia; color:Black' >Welcome to my Portfolio  </span>\n",
    "\n",
    "---"
   ]
  },
  {
   "cell_type": "markdown",
   "id": "e21f2d6e",
   "metadata": {},
   "source": [
    "## <center><span style='font-family: Georgia; color:#088484' >Project 1: Master thesis\n",
    "\n",
    "    \n"
   ]
  },
  {
   "cell_type": "markdown",
   "id": "f76dd316",
   "metadata": {},
   "source": [
    "**Description:** \n",
    "\n",
    "**Skills needed:**\n",
    "\n",
    "**Link:** <a href = \"pdfs\\445251vanderZalm_MasterThesis.pdf\"> Master thesis. </a>"
   ]
  },
  {
   "cell_type": "markdown",
   "id": "c12c2d0c",
   "metadata": {},
   "source": [
    "### <center><span style='font-family: Georgia; color:Black' >_Poster made for the Dutch Neuroscience Meeting 2023_\n",
    "\n",
    "\n",
    "<center><img src=\"Pictures/Poster_DNM.PNG\" width=\"900\" /><center> \n"
   ]
  },
  {
   "cell_type": "markdown",
   "id": "6ce20809",
   "metadata": {},
   "source": [
    "## <center>Project 2: Bachelor thesis\n",
    "\n"
   ]
  },
  {
   "cell_type": "markdown",
   "id": "80b5f7eb",
   "metadata": {},
   "source": [
    "**Description:** \n",
    "\n",
    "**Skills needed:**\n",
    "\n",
    "**Links:** <a href = \"pdfs/Thesis_Christian_van_der_Zalm_4541979.pdf\"> Bachelor thesis. </a>"
   ]
  },
  {
   "cell_type": "markdown",
   "id": "ad90ae3e",
   "metadata": {},
   "source": [
    "### <center>Developed Pipeline for Linear Discriminant application\n",
    "<center><img src=\"./Pictures/LDA_Pipeline.PNG\" width=\"800\" /><center>\n",
    "\n",
    "### Visual representation of multi-dimensionality of applying LDA on PCA data\n",
    "<center><img src=\"Pictures/LDA_PCA.PNG\" width=\"500\" /><center>\n",
    "\n",
    "\n",
    "### General output using all components\n",
    "<center><img src=\"Pictures/LDA_graph.PNG\" width=\"1000\" /><center>\n",
    "\n",
    "\n",
    "### General output using the 10 best components\n",
    "<center><img src=\"Pictures/LDA_graph_10.PNG\" width=\"1000\" /><center> "
   ]
  },
  {
   "cell_type": "markdown",
   "id": "a97f0fc3",
   "metadata": {},
   "source": [
    "## <center>Project Name: Interactive map of geographic clustering for delivery"
   ]
  },
  {
   "cell_type": "markdown",
   "id": "5820f2df",
   "metadata": {},
   "source": [
    "**Description:** A program to interactively visualize and divide orders into the optimized amount of groups using k-means clustering.\n",
    "Features:\n",
    "•\tSelecting and hiding clusters of orders\n",
    "•\tClustering is done automatically based on k-mean clustering optimization \n",
    "•\tCluster are labelled automatically based on the neighbourhood of the centre of the cluster\n",
    "•\tEach order displays specific information when clicked on\n",
    "\n",
    "**Skill needed** Python, k-mean clustering, optimization, Geographical visualisation, GUI, Software Engineering, Data Analysis\n",
    "\n",
    "**Link:** <a href = \"https://github.com/ChristianvdZalm/Portfolio/tree/main/Projects/Geograpical_Clustering\"> Geograpical Clustering Project</a>\n",
    "\n"
   ]
  },
  {
   "cell_type": "markdown",
   "id": "be4b8cad",
   "metadata": {},
   "source": [
    "### <center>Screenshot of html output\n",
    "<center><img src=\"Pictures/Geo_clustering.PNG\" width=\"500\" /><center>\n",
    "### Sum of squares used to analyse optimal amount of clusters\n",
    "<center><img src=\"Pictures/Clustergraph.PNG\" width=\"500\" /><center> \n",
    "### Different clustering depending on the amount of cluster\n",
    "<center><img src=\"Pictures/cluster_analysis.PNG\" width=\"1000\" /><center>"
   ]
  },
  {
   "cell_type": "markdown",
   "id": "5e722937",
   "metadata": {},
   "source": [
    "## Project Name: CheckChick, A pomodoro work assistant"
   ]
  },
  {
   "cell_type": "markdown",
   "id": "ff7b0095",
   "metadata": {},
   "source": [
    "**Description:** \n",
    "\n",
    "**Skills needed:**\n",
    "\n",
    "**Link:** <a href = \"Videos\\checkchickmp4.mp4\"> Video. </a>"
   ]
  },
  {
   "cell_type": "markdown",
   "id": "75cd00bf",
   "metadata": {},
   "source": [
    "\n",
    "<center><video width=\"800\" height=\" \" \n",
    "       src=\"Videos\\checkchickmp4.mp4\" \n",
    "       controls>\n",
    "</video><center>"
   ]
  },
  {
   "cell_type": "markdown",
   "id": "2279d53e",
   "metadata": {},
   "source": [
    "### <center>Configuration screen<center>\n",
    "<center><img src=\"Pictures/CheckChick/Checkchick_config.png\" width=\"1000\" /><center> \n"
   ]
  },
  {
   "cell_type": "markdown",
   "id": "d06c2e07",
   "metadata": {},
   "source": [
    "### <center>Break screen<center>\n",
    "<center><img src=\"Pictures/CheckChick/Checkchick_break.png\" width=\"1000\" /><center> \n"
   ]
  },
  {
   "cell_type": "markdown",
   "id": "ffe3c146",
   "metadata": {},
   "source": [
    "### <center>State diagram<center>\n",
    "<center><img src=\"Pictures/CheckChick/Statediagram_CheckChick_2.JPG\" width=\"1000\" /><center> "
   ]
  },
  {
   "cell_type": "markdown",
   "id": "52797397",
   "metadata": {},
   "source": [
    "## <center>Project Collection: Making games"
   ]
  },
  {
   "cell_type": "markdown",
   "id": "9b2c0aee",
   "metadata": {},
   "source": [
    "### <center>Game 1: Wandering Woods"
   ]
  },
  {
   "cell_type": "markdown",
   "id": "df62f65b",
   "metadata": {},
   "source": [
    "\n",
    "<center><video width=\"800\" height=\" \" \n",
    "       src=\"Videos/Wandering Woods\n",
    ".mp4\" \n",
    "       controls>\n",
    "</video><center>"
   ]
  },
  {
   "cell_type": "markdown",
   "id": "2f0a5b8e",
   "metadata": {},
   "source": [
    "### <center>Game 2: Delay tracking game"
   ]
  },
  {
   "cell_type": "markdown",
   "id": "64c6430f",
   "metadata": {},
   "source": [
    "\n",
    "<center><video width=\"800\" height=\" \" \n",
    "       src=\"Videos/DelayTracking.mp4\" \n",
    "       controls>\n",
    "</video><center>"
   ]
  },
  {
   "cell_type": "markdown",
   "id": "6a3fc553",
   "metadata": {},
   "source": [
    "### <center>Screenshot of task\n",
    "<center><img src=\"Pictures/Delay_GUI.PNG\" width=\"800\" /><center> "
   ]
  },
  {
   "cell_type": "markdown",
   "id": "7d61d4af",
   "metadata": {},
   "source": [
    "### <center>Game 3: Text based minigames"
   ]
  },
  {
   "cell_type": "markdown",
   "id": "aeccff09",
   "metadata": {},
   "source": [
    "\n",
    "<center><video width=\"800\" height=\" \" \n",
    "       src=\"Videos/Minigames.mp4\" \n",
    "       controls>\n",
    "</video><center>"
   ]
  },
  {
   "cell_type": "markdown",
   "id": "f802b9fe",
   "metadata": {},
   "source": [
    "### <center>Game 4: Text based cooking game"
   ]
  },
  {
   "cell_type": "markdown",
   "id": "b893d810",
   "metadata": {},
   "source": [
    "\n",
    "<center><video width=\"800\" height=\" \" \n",
    "       src=\"Videos/Cooking_game.mp4\" \n",
    "       controls>\n",
    "</video><center>"
   ]
  },
  {
   "cell_type": "markdown",
   "id": "a8aa9c84",
   "metadata": {},
   "source": [
    "### <center>Game visualisation: Procedurally generated terrain"
   ]
  },
  {
   "cell_type": "markdown",
   "id": "ad68b2f8",
   "metadata": {},
   "source": [
    "### <center>Example of procedurally generated map\n",
    "<center><img src=\"Pictures/Procedurally generated terrain.PNG\" width=\"1000\" /><center>"
   ]
  },
  {
   "cell_type": "markdown",
   "id": "154357ac",
   "metadata": {},
   "source": [
    "\n",
    "<center><video width=\"800\" height=\" \" \n",
    "       src=\"Videos/procedural terrain generation.mp4\" \n",
    "       controls>\n",
    "</video><center>"
   ]
  },
  {
   "cell_type": "markdown",
   "id": "d461e83e",
   "metadata": {},
   "source": [
    "# <center>Other projects: Art"
   ]
  },
  {
   "cell_type": "markdown",
   "id": "2281e266",
   "metadata": {},
   "source": [
    "### <center>3D scene fully selfmade and rendered in Blender\n",
    "<center><img src=\"Pictures/Boat_night_barrel.png\" width=\"1000\" /><center>"
   ]
  },
  {
   "cell_type": "markdown",
   "id": "19f73d7a",
   "metadata": {},
   "source": [
    "## <center>IN PROGRESS: AI with FASTAI"
   ]
  },
  {
   "cell_type": "markdown",
   "id": "fa283f78",
   "metadata": {},
   "source": [
    "**Description:** \n",
    "\n",
    "**Skills needed:**\n",
    "\n",
    "**Link:**"
   ]
  },
  {
   "cell_type": "code",
   "execution_count": null,
   "id": "18ddb225",
   "metadata": {},
   "outputs": [],
   "source": []
  }
 ],
 "metadata": {
  "kernelspec": {
   "display_name": "Python 3 (ipykernel)",
   "language": "python",
   "name": "python3"
  },
  "language_info": {
   "codemirror_mode": {
    "name": "ipython",
    "version": 3
   },
   "file_extension": ".py",
   "mimetype": "text/x-python",
   "name": "python",
   "nbconvert_exporter": "python",
   "pygments_lexer": "ipython3",
   "version": "3.11.5"
  }
 },
 "nbformat": 4,
 "nbformat_minor": 5
}
