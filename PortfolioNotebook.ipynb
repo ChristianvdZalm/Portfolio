{
 "cells": [
  {
   "cell_type": "markdown",
   "id": "0878c1ec",
   "metadata": {},
   "source": [
    "# Portfolio: Christian van der Zalm"
   ]
  },
  {
   "cell_type": "markdown",
   "id": "9dedbc5e",
   "metadata": {},
   "source": [
    "Welcome word about my portfolio"
   ]
  },
  {
   "cell_type": "markdown",
   "id": "5a3aa682",
   "metadata": {},
   "source": [
    "## Project 1: Master thesis"
   ]
  },
  {
   "cell_type": "markdown",
   "id": "d0bfd88e",
   "metadata": {},
   "source": [
    "**Description:** \n",
    "\n",
    "**Skills needed:**\n",
    "\n",
    "**Link:** <a href = \"pdfs\\445251vanderZalm_MasterThesis.pdf\"> Master thesis. </a>"
   ]
  },
  {
   "cell_type": "markdown",
   "id": "fbf65fa6",
   "metadata": {},
   "source": [
    "### _Poster made for the Dutch Neuroscience Meeting 2023_\n",
    "\n",
    "<img src=\"Pictures/Poster_DNM.png\" width=1000 /> \n",
    "\n"
   ]
  },
  {
   "cell_type": "markdown",
   "id": "6a33ae0d",
   "metadata": {},
   "source": [
    "## Project 2: Bachelor thesis\n",
    "\n"
   ]
  },
  {
   "cell_type": "markdown",
   "id": "2c751321",
   "metadata": {},
   "source": [
    "**Description:** \n",
    "\n",
    "**Skills needed:**\n",
    "\n",
    "**Links:** <a href = \"pdfs/Thesis_Christian_van_der_Zalm_4541979.pdf\"> Bachelor thesis. </a>"
   ]
  },
  {
   "cell_type": "markdown",
   "id": "a2a6bf91",
   "metadata": {},
   "source": [
    "<img src=\"Pictures/LDA_Pipeline.png\" width=800 /> \n",
    "\n",
    "\n",
    "<img src=\"Pictures/LDA_PCA.png\" width=500 /> "
   ]
  },
  {
   "cell_type": "markdown",
   "id": "46ef84e3",
   "metadata": {},
   "source": [
    "## Project Name: Interactive map of geographic clustering for delivery"
   ]
  },
  {
   "attachments": {},
   "cell_type": "markdown",
   "id": "25b41da0",
   "metadata": {},
   "source": [
    "**Description:** A program to interactively visualize and divide orders into the optimized amount of groups using k-means clustering.\n",
    "Features:\n",
    "•\tSelecting and hiding clusters of orders\n",
    "•\tClustering is done automatically based on k-mean clustering optimization \n",
    "•\tCluster are labelled automatically based on the neighbourhood of the centre of the cluster\n",
    "•\tEach order displays specific information when clicked on\n",
    "\n",
    "**Skill needed** Python, k-mean clustering, optimization, Geographical visualisation, GUI, Software Engineering, Data Analysis\n",
    "\n",
    "**Link:** <a href = \"https://github.com/ChristianvdZalm/Portfolio/tree/main/Projects/Geograpical_Clustering\"> Geograpical Clustering Project</a>\n",
    "\n"
   ]
  },
  {
   "cell_type": "markdown",
   "id": "e31bfc3a",
   "metadata": {},
   "source": [
    "**_Screenshot of html output_**\n",
    "<img src=\"Pictures/Geo_clustering.png\" width=500 /> ![](Pictures/Geo_clustering.png) \n",
    "**_Sum of squares used to analyse optimal amount of clusters_**\n",
    "<img src=\"Pictures/Clustergraph.png\" width=500 /> ![](Pictures/Clustergraph.png) \n",
    "**_Different clustering depending on the amount of clusters_**\n",
    "<img src=\"Pictures/cluster_analysis.png\" width=1000 /> ![](Pictures/cluster_analysis.png) "
   ]
  },
  {
   "cell_type": "code",
   "execution_count": null,
   "id": "f959b55a",
   "metadata": {},
   "outputs": [],
   "source": []
  }
 ],
 "metadata": {
  "kernelspec": {
   "display_name": "Python 3 (ipykernel)",
   "language": "python",
   "name": "python3"
  },
  "language_info": {
   "codemirror_mode": {
    "name": "ipython",
    "version": 3
   },
   "file_extension": ".py",
   "mimetype": "text/x-python",
   "name": "python",
   "nbconvert_exporter": "python",
   "pygments_lexer": "ipython3",
   "version": "3.11.5"
  }
 },
 "nbformat": 4,
 "nbformat_minor": 5
}
