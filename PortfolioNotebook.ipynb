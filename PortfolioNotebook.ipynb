{
 "cells": [
  {
   "cell_type": "markdown",
   "id": "0878c1ec",
   "metadata": {},
   "source": [
    "# Portfolio: Christian van der Zalm"
   ]
  },
  {
   "cell_type": "markdown",
   "id": "5b7538a0",
   "metadata": {},
   "source": [
    "Welcome word about my portfolio"
   ]
  },
  {
   "cell_type": "markdown",
   "id": "e21f2d6e",
   "metadata": {},
   "source": [
    "## Project 1: Master thesis"
   ]
  },
  {
   "cell_type": "markdown",
   "id": "f76dd316",
   "metadata": {},
   "source": [
    "**Description:** \n",
    "\n",
    "**Skills needed:**\n",
    "\n",
    "**Link:** <a href = \"pdfs\\445251vanderZalm_MasterThesis.pdf\"> Master thesis. </a>"
   ]
  },
  {
   "cell_type": "markdown",
   "id": "c12c2d0c",
   "metadata": {},
   "source": [
    "### _Poster made for the Dutch Neuroscience Meeting 2023_\n",
    "\n",
    "<img src=\"Pictures/Poster_DNM.PNG\" width=\"900\" /> \n"
   ]
  },
  {
   "cell_type": "markdown",
   "id": "6ce20809",
   "metadata": {},
   "source": [
    "## Project 2: Bachelor thesis\n",
    "\n"
   ]
  },
  {
   "cell_type": "markdown",
   "id": "80b5f7eb",
   "metadata": {},
   "source": [
    "**Description:** \n",
    "\n",
    "**Skills needed:**\n",
    "\n",
    "**Links:** <a href = \"pdfs/Thesis_Christian_van_der_Zalm_4541979.pdf\"> Bachelor thesis. </a>"
   ]
  },
  {
   "cell_type": "markdown",
   "id": "ad90ae3e",
   "metadata": {},
   "source": [
    "<img src=\"./Pictures/LDA_Pipeline.PNG\" width=\"800\" />\n",
    "\n",
    "\n",
    "<img src=\"Pictures/LDA_PCA.PNG\" width=\"500\" /> \n",
    "\n"
   ]
  },
  {
   "cell_type": "markdown",
   "id": "a97f0fc3",
   "metadata": {},
   "source": [
    "## Project Name: Interactive map of geographic clustering for delivery"
   ]
  },
  {
   "attachments": {},
   "cell_type": "markdown",
   "id": "5820f2df",
   "metadata": {},
   "source": [
    "**Description:** A program to interactively visualize and divide orders into the optimized amount of groups using k-means clustering.\n",
    "Features:\n",
    "•\tSelecting and hiding clusters of orders\n",
    "•\tClustering is done automatically based on k-mean clustering optimization \n",
    "•\tCluster are labelled automatically based on the neighbourhood of the centre of the cluster\n",
    "•\tEach order displays specific information when clicked on\n",
    "\n",
    "**Skill needed** Python, k-mean clustering, optimization, Geographical visualisation, GUI, Software Engineering, Data Analysis\n",
    "\n",
    "**Link:** <a href = \"https://github.com/ChristianvdZalm/Portfolio/tree/main/Projects/Geograpical_Clustering\"> Geograpical Clustering Project</a>\n",
    "\n"
   ]
  },
  {
   "cell_type": "markdown",
   "id": "be4b8cad",
   "metadata": {},
   "source": [
    "**_Screenshot of html output_**\n",
    "<img src=\"Pictures/Geo_clustering.PNG\" width=\"500\" />\n",
    "\n",
    "**_Sum of squares used to analyse optimal amount of clusters_**\n",
    "<img src=\"Pictures/Clustergraph.PNG\" width=\"500\" /> \n",
    "**_Different clustering depending on the amount of clusters_**\n",
    "<img src=\"Pictures/cluster_analysis.PNG\" width=\"1000\" /> "
   ]
  },
  {
   "cell_type": "markdown",
   "id": "5e722937",
   "metadata": {},
   "source": [
    "## Project Name: CheckChick, A pomodoro work assistant"
   ]
  },
  {
   "cell_type": "markdown",
   "id": "ff7b0095",
   "metadata": {},
   "source": [
    "**Description:** \n",
    "\n",
    "**Skills needed:**\n",
    "\n",
    "**Link:** <a href = \"Videos\\checkchickmp4.mp4\"> Video. </a>"
   ]
  },
  {
   "cell_type": "markdown",
   "id": "2279d53e",
   "metadata": {},
   "source": [
    "<img src=\"Pictures/CheckChick/Checkchick_config.png\" width=\"1000\" /> \n",
    "<img src=\"Pictures/CheckChick/Checkchick_break.png\" width=\"1000\" /> \n",
    "<img src=\"Pictures/CheckChick/Statediagram_CheckChick_2.JPG\" width=\"1000\" /> "
   ]
  },
  {
   "cell_type": "markdown",
   "id": "52797397",
   "metadata": {},
   "source": [
    "## Project Collection: Making games"
   ]
  },
  {
   "cell_type": "markdown",
   "id": "9b2c0aee",
   "metadata": {},
   "source": [
    "### Game 1: Wandering Woods"
   ]
  },
  {
   "cell_type": "markdown",
   "id": "df62f65b",
   "metadata": {},
   "source": [
    "\n",
    "<video width=\"800\" height=\" \" \n",
    "       src=\"Videos/Wandering Woods\n",
    ".mp4\" \n",
    "       controls>\n",
    "</video>"
   ]
  },
  {
   "cell_type": "markdown",
   "id": "2f0a5b8e",
   "metadata": {},
   "source": [
    "### Game 2: Delay tracking game"
   ]
  },
  {
   "cell_type": "markdown",
   "id": "64c6430f",
   "metadata": {},
   "source": [
    "\n",
    "<video width=\"800\" height=\" \" \n",
    "       src=\"Videos/DelayTracking.mp4\" \n",
    "       controls>\n",
    "</video>"
   ]
  },
  {
   "cell_type": "markdown",
   "id": "6a3fc553",
   "metadata": {},
   "source": [
    "<img src=\"Pictures/Delay_GUI.PNG\" width=\"800\" /> "
   ]
  },
  {
   "cell_type": "markdown",
   "id": "7d61d4af",
   "metadata": {},
   "source": [
    "### Game 3: Text based minigames"
   ]
  },
  {
   "cell_type": "markdown",
   "id": "aeccff09",
   "metadata": {},
   "source": [
    "\n",
    "<video width=\"800\" height=\" \" \n",
    "       src=\"Videos/Minigames.mp4\" \n",
    "       controls>\n",
    "</video>"
   ]
  },
  {
   "cell_type": "markdown",
   "id": "f802b9fe",
   "metadata": {},
   "source": [
    "### Game 4: Text based cooking game"
   ]
  },
  {
   "cell_type": "markdown",
   "id": "b893d810",
   "metadata": {},
   "source": [
    "\n",
    "<video width=\"800\" height=\" \" \n",
    "       src=\"Videos/Cooking_game.mp4\" \n",
    "       controls>\n",
    "</video>"
   ]
  },
  {
   "cell_type": "markdown",
   "id": "a8aa9c84",
   "metadata": {},
   "source": [
    "### Game visualisation: Procedurally generated terrain"
   ]
  },
  {
   "cell_type": "markdown",
   "id": "ad68b2f8",
   "metadata": {},
   "source": [
    "<img src=\"Pictures/Procedurally generated terrain.PNG\" width=\"1000\" /> "
   ]
  },
  {
   "cell_type": "markdown",
   "id": "154357ac",
   "metadata": {},
   "source": [
    "\n",
    "<video width=\"800\" height=\" \" \n",
    "       src=\"Videos/procedural terrain generation.mp4\" \n",
    "       controls>\n",
    "</video>"
   ]
  },
  {
   "cell_type": "markdown",
   "id": "d461e83e",
   "metadata": {},
   "source": [
    "# Other projects: Art"
   ]
  },
  {
   "cell_type": "markdown",
   "id": "2281e266",
   "metadata": {},
   "source": [
    "<img src=\"Pictures/Boat_night_barrel.png\" width=\"1000\" /> "
   ]
  },
  {
   "cell_type": "markdown",
   "id": "19f73d7a",
   "metadata": {},
   "source": [
    "## IN PROGRESS: AI with FASTAI"
   ]
  },
  {
   "cell_type": "code",
   "execution_count": null,
   "id": "9d04ca9b",
   "metadata": {},
   "outputs": [],
   "source": []
  }
 ],
 "metadata": {
  "kernelspec": {
   "display_name": "Python 3 (ipykernel)",
   "language": "python",
   "name": "python3"
  },
  "language_info": {
   "codemirror_mode": {
    "name": "ipython",
    "version": 3
   },
   "file_extension": ".py",
   "mimetype": "text/x-python",
   "name": "python",
   "nbconvert_exporter": "python",
   "pygments_lexer": "ipython3",
   "version": "3.11.5"
  }
 },
 "nbformat": 4,
 "nbformat_minor": 5
}
