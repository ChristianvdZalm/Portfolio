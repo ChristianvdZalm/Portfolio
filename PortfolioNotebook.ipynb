{
 "cells": [
  {
   "cell_type": "markdown",
   "id": "0878c1ec",
   "metadata": {},
   "source": [
    "# Portfolio: Christian van der Zalm"
   ]
  },
  {
   "cell_type": "markdown",
   "id": "97092f0e",
   "metadata": {},
   "source": [
    "Welcome word about my portfolio"
   ]
  },
  {
   "cell_type": "markdown",
   "id": "d53b648e",
   "metadata": {},
   "source": [
    "## Project 1: Master thesis"
   ]
  },
  {
   "cell_type": "markdown",
   "id": "7ec9272d",
   "metadata": {},
   "source": [
    "**Description:** \n",
    "\n",
    "**Skills needed:**\n",
    "\n",
    "**Link:** <a href = \"pdfs\\445251vanderZalm_MasterThesis.pdf\"> Master thesis. </a>"
   ]
  },
  {
   "cell_type": "markdown",
   "id": "343d92b5",
   "metadata": {},
   "source": [
    "### _Poster made for the Dutch Neuroscience Meeting 2023_\n",
    "\n",
    "<img src=\"Pictures/Poster_DNM.PNG\" width=\"900\" /> \n"
   ]
  },
  {
   "cell_type": "markdown",
   "id": "c4416a4c",
   "metadata": {},
   "source": [
    "## Project 2: Bachelor thesis\n",
    "\n"
   ]
  },
  {
   "cell_type": "markdown",
   "id": "9f852188",
   "metadata": {},
   "source": [
    "**Description:** \n",
    "\n",
    "**Skills needed:**\n",
    "\n",
    "**Links:** <a href = \"pdfs/Thesis_Christian_van_der_Zalm_4541979.pdf\"> Bachelor thesis. </a>"
   ]
  },
  {
   "cell_type": "markdown",
   "id": "5eff1ebe",
   "metadata": {},
   "source": [
    "<img src=\"./Pictures/LDA_Pipeline.PNG\" width=\"800\" />\n",
    "\n",
    "\n",
    "<img src=\"Pictures/LDA_PCA.PNG\" width=\"500\" /> \n",
    "\n"
   ]
  },
  {
   "cell_type": "markdown",
   "id": "99e13680",
   "metadata": {},
   "source": [
    "## Project Name: Interactive map of geographic clustering for delivery"
   ]
  },
  {
   "attachments": {},
   "cell_type": "markdown",
   "id": "bdf8fff0",
   "metadata": {},
   "source": [
    "**Description:** A program to interactively visualize and divide orders into the optimized amount of groups using k-means clustering.\n",
    "Features:\n",
    "•\tSelecting and hiding clusters of orders\n",
    "•\tClustering is done automatically based on k-mean clustering optimization \n",
    "•\tCluster are labelled automatically based on the neighbourhood of the centre of the cluster\n",
    "•\tEach order displays specific information when clicked on\n",
    "\n",
    "**Skill needed** Python, k-mean clustering, optimization, Geographical visualisation, GUI, Software Engineering, Data Analysis\n",
    "\n",
    "**Link:** <a href = \"https://github.com/ChristianvdZalm/Portfolio/tree/main/Projects/Geograpical_Clustering\"> Geograpical Clustering Project</a>\n",
    "\n"
   ]
  },
  {
   "cell_type": "markdown",
   "id": "9dee07c4",
   "metadata": {},
   "source": [
    "**_Screenshot of html output_**\n",
    "<img src=\"Pictures/Geo_clustering.PNG\" width=\"500\" />\n",
    "\n",
    "**_Sum of squares used to analyse optimal amount of clusters_**\n",
    "<img src=\"Pictures/Clustergraph.PNG\" width=\"500\" /> \n",
    "**_Different clustering depending on the amount of clusters_**\n",
    "<img src=\"Pictures/cluster_analysis.PNG\" width=\"1000\" /> "
   ]
  },
  {
   "cell_type": "markdown",
   "id": "6386c8d3",
   "metadata": {},
   "source": [
    "## Project Name: CheckChick, A pomodoro work assistant"
   ]
  },
  {
   "cell_type": "markdown",
   "id": "b52bdd21",
   "metadata": {},
   "source": [
    "**Description:** \n",
    "\n",
    "**Skills needed:**\n",
    "\n",
    "**Link:** <a href = \"Videos\\checkchickmp4.mp4\"> Video. </a>"
   ]
  },
  {
   "cell_type": "markdown",
   "id": "b6811e92",
   "metadata": {},
   "source": [
    "<img src=\"Pictures/CheckChick/Checkchick_config.png\" width=\"1000\" /> \n",
    "<img src=\"Pictures/CheckChick/Checkchick_break.png\" width=\"1000\" /> \n",
    "<img src=\"Pictures/CheckChick/Statediagram_CheckChick_2.JPG\" width=\"1000\" /> "
   ]
  },
  {
   "cell_type": "markdown",
   "id": "642c712e",
   "metadata": {},
   "source": [
    "## Project Collection: Making games"
   ]
  },
  {
   "cell_type": "markdown",
   "id": "26abc497",
   "metadata": {},
   "source": [
    "### Game 1: Wandering Woods"
   ]
  },
  {
   "cell_type": "code",
   "execution_count": null,
   "id": "0f7da632",
   "metadata": {},
   "outputs": [],
   "source": []
  },
  {
   "cell_type": "markdown",
   "id": "85fad975",
   "metadata": {},
   "source": [
    "### Game 2: Delay tracking game"
   ]
  },
  {
   "cell_type": "code",
   "execution_count": null,
   "id": "b864e1e1",
   "metadata": {},
   "outputs": [],
   "source": []
  },
  {
   "cell_type": "markdown",
   "id": "835e3f1d",
   "metadata": {},
   "source": [
    "### Game 3: Text based minigames"
   ]
  },
  {
   "cell_type": "code",
   "execution_count": null,
   "id": "06607ebc",
   "metadata": {},
   "outputs": [],
   "source": []
  },
  {
   "cell_type": "markdown",
   "id": "f39ced9a",
   "metadata": {},
   "source": [
    "### Game 4: Text based cooking game"
   ]
  },
  {
   "cell_type": "code",
   "execution_count": null,
   "id": "312fc17b",
   "metadata": {},
   "outputs": [],
   "source": []
  },
  {
   "cell_type": "markdown",
   "id": "dd31ac92",
   "metadata": {},
   "source": [
    "### Game visualisation: Procedurally generated terrain"
   ]
  },
  {
   "cell_type": "markdown",
   "id": "109db2df",
   "metadata": {},
   "source": [
    "<img src=\"Pictures/Procedurally generated terrain.PNG\" width=\"1000\" /> "
   ]
  },
  {
   "cell_type": "markdown",
   "id": "bb90f589",
   "metadata": {},
   "source": [
    "# Other projects: Art"
   ]
  },
  {
   "cell_type": "markdown",
   "id": "075f625d",
   "metadata": {},
   "source": [
    "<img src=\"Pictures/Boat_night_barrel.png\" width=\"1000\" /> "
   ]
  },
  {
   "cell_type": "code",
   "execution_count": null,
   "id": "ac6ebd8f",
   "metadata": {},
   "outputs": [],
   "source": []
  }
 ],
 "metadata": {
  "kernelspec": {
   "display_name": "Python 3 (ipykernel)",
   "language": "python",
   "name": "python3"
  },
  "language_info": {
   "codemirror_mode": {
    "name": "ipython",
    "version": 3
   },
   "file_extension": ".py",
   "mimetype": "text/x-python",
   "name": "python",
   "nbconvert_exporter": "python",
   "pygments_lexer": "ipython3",
   "version": "3.11.5"
  }
 },
 "nbformat": 4,
 "nbformat_minor": 5
}
