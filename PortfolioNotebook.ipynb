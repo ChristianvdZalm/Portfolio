{
 "cells": [
  {
   "cell_type": "markdown",
   "id": "0878c1ec",
   "metadata": {},
   "source": [
    "# Project Name: Interactive map"
   ]
  },
  {
   "cell_type": "markdown",
   "id": "a2487fd4",
   "metadata": {},
   "source": [
    "\n",
    "\n",
    "<video width=\"720\" height=\"320\" \n",
    "       src=\"Videos\\testvideo.mp4\"  \n",
    "       controls>\n",
    "</video>"
   ]
  },
  {
   "cell_type": "markdown",
   "id": "562c5272",
   "metadata": {},
   "source": [
    "**Demo Geographical clustering on mobile**\n",
    "\n",
    "<video width=\"720\" height=\"320\" \n",
    "       src=\"Videos/testvideo.mp4\"  \n",
    "       controls>\n",
    "</video>"
   ]
  },
  {
   "cell_type": "code",
   "execution_count": 12,
   "id": "2358de0d",
   "metadata": {},
   "outputs": [
    {
     "data": {
      "text/html": [
       "\n",
       "<video width=\"720\" height=\"320\"  controls>\n",
       "  <source src=\"Videos/testvideo.mp4\"  type=\"video/mp4\">\n",
       "</video>\n"
      ],
      "text/plain": [
       "<IPython.core.display.HTML object>"
      ]
     },
     "execution_count": 12,
     "metadata": {},
     "output_type": "execute_result"
    }
   ],
   "source": [
    "from IPython.display import HTML\n",
    "\n",
    "# <video width=\"720\" height=\"320\" \n",
    "#        src=\"Videos\\testvideo.mp4\"  \n",
    "#        controls>\n",
    "# </video>\n",
    "\n",
    "HTML(\"\"\"\n",
    "<video width=\"720\" height=\"320\"  controls>\n",
    "  <source src=\"Videos/testvideo.mp4\"  type=\"video/mp4\">\n",
    "</video>\n",
    "\"\"\")\n",
    "\n",
    "# %%HTML\n",
    "# <video width=\"320\" height=\"240\" controls>\n",
    "#   <source src=\"path/to/your.mp4\" type=\"video/mp4\">\n",
    "# </video>\n",
    "# Video('Videos/testvideo.mp4', embed=True)"
   ]
  },
  {
   "cell_type": "markdown",
   "id": "b0b46fa2",
   "metadata": {},
   "source": [
    "<img src=\"Videos/imagetest.jpg\" width=800 /> ![](Videos/imagetest.jpg) "
   ]
  },
  {
   "cell_type": "code",
   "execution_count": null,
   "id": "013e6d9b",
   "metadata": {},
   "outputs": [],
   "source": []
  }
 ],
 "metadata": {
  "kernelspec": {
   "display_name": "Python 3 (ipykernel)",
   "language": "python",
   "name": "python3"
  },
  "language_info": {
   "codemirror_mode": {
    "name": "ipython",
    "version": 3
   },
   "file_extension": ".py",
   "mimetype": "text/x-python",
   "name": "python",
   "nbconvert_exporter": "python",
   "pygments_lexer": "ipython3",
   "version": "3.11.5"
  }
 },
 "nbformat": 4,
 "nbformat_minor": 5
}
