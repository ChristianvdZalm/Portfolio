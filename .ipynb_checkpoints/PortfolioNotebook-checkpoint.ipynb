{
 "cells": [
  {
   "cell_type": "markdown",
   "id": "0878c1ec",
   "metadata": {},
   "source": [
    "# Project Name: Interactive map"
   ]
  },
  {
   "cell_type": "markdown",
   "id": "c67b9003",
   "metadata": {},
   "source": [
    "\n",
    "\n",
    "<video width=\"720\" height=\"320\" \n",
    "       src=\"Videos\\testvideo.mp4\"  \n",
    "       controls>\n",
    "</video>"
   ]
  },
  {
   "cell_type": "markdown",
   "id": "5395b332",
   "metadata": {},
   "source": [
    "**Demo Geographical clustering on mobile**\n",
    "\n",
    "<video width=\"720\" height=\"320\" \n",
    "       src=\"Videos/testvideo.mp4\"  \n",
    "       controls>\n",
    "</video>"
   ]
  },
  {
   "cell_type": "code",
   "execution_count": 6,
   "id": "52a2e70b",
   "metadata": {},
   "outputs": [
    {
     "ename": "SyntaxError",
     "evalue": "invalid syntax (2343326093.py, line 15)",
     "output_type": "error",
     "traceback": [
      "\u001b[1;36m  Cell \u001b[1;32mIn[6], line 15\u001b[1;36m\u001b[0m\n\u001b[1;33m    <video width=\"320\" height=\"240\" controls>\u001b[0m\n\u001b[1;37m    ^\u001b[0m\n\u001b[1;31mSyntaxError\u001b[0m\u001b[1;31m:\u001b[0m invalid syntax\n"
     ]
    }
   ],
   "source": [
    "from IPython.display import HTML\n",
    "\n",
    "# <video width=\"720\" height=\"320\" \n",
    "#        src=\"Videos\\testvideo.mp4\"  \n",
    "#        controls>\n",
    "# </video>\n",
    "\n",
    "# HTML(\"\"\"\n",
    "# <video width=\"720\" height=\"320\"  controls>\n",
    "#   <source src=\"Videos\\testvideo.mp4\"  type=\"video/mp4\">\n",
    "# </video>\n",
    "# \"\"\")\n",
    "\n",
    "%%HTML\n",
    "<video width=\"320\" height=\"240\" controls>\n",
    "  <source src=\"path/to/your.mp4\" type=\"video/mp4\">\n",
    "</video>"
   ]
  },
  {
   "cell_type": "markdown",
   "id": "b654fece",
   "metadata": {},
   "source": [
    "<img src=\"Videos/imagetest.jpg\" width=800 /> ![](Videos/imagetest.jpg) "
   ]
  },
  {
   "cell_type": "code",
   "execution_count": null,
   "id": "814f36e9",
   "metadata": {},
   "outputs": [],
   "source": []
  }
 ],
 "metadata": {
  "kernelspec": {
   "display_name": "Python 3 (ipykernel)",
   "language": "python",
   "name": "python3"
  },
  "language_info": {
   "codemirror_mode": {
    "name": "ipython",
    "version": 3
   },
   "file_extension": ".py",
   "mimetype": "text/x-python",
   "name": "python",
   "nbconvert_exporter": "python",
   "pygments_lexer": "ipython3",
   "version": "3.11.5"
  }
 },
 "nbformat": 4,
 "nbformat_minor": 5
}
