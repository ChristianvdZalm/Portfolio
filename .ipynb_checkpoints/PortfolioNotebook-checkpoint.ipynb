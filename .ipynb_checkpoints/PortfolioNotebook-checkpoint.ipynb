{
 "cells": [
  {
   "cell_type": "markdown",
   "id": "0878c1ec",
   "metadata": {},
   "source": [
    "\n",
    "# <center><span style='font-family: Georgia; color:#088484' > Portfolio: Christian van der Zalm  </span> \n"
   ]
  },
  {
   "cell_type": "markdown",
   "id": "4ec1ed4b",
   "metadata": {},
   "source": [
    "<center><img src=\"Pictures/profile.PNG\" width=\"300\" /><center> \n",
    "    \n",
    "---"
   ]
  },
  {
   "cell_type": "markdown",
   "id": "5b7538a0",
   "metadata": {},
   "source": [
    "#### <center><span style='font-family: Georgia; color:Black' > _Computational thinking: the key to unlocking innovation._\n",
    "\n",
    "<br><center><span style='font-family: Georgia; color:Black' >Welcome to my portfolio! Here I made an overview of the projects I have been involved with. <br>Coming from very different background: \n",
    "    \n",
    "<br> <center> **Computer science, Nanobiology, Neuroscience, Data Science, Data Visualisation, Software Engineering, Game Development, 3D Modelling, Music Composing,** \n",
    " <center><br>the leading threat has always been my curiosity of implementing different disciplines into one project. <br>That is why my portfolio is not categorizable into one role, but this also reflects my personality. <br>I hope you enjoy looking through my portfolio!\n",
    "<br>  <a href = \"https://www.linkedin.com/in/christian-van-der-zalm-a8b00724b/\"> LinkedIn  </a>\n",
    "<br><a href = \"pdfs/CV_CvdZ.pdf\"> CV  </a> \n",
    "    \n",
    "    \n",
    "\n",
    "    \n",
    "---"
   ]
  },
  {
   "cell_type": "markdown",
   "id": "e21f2d6e",
   "metadata": {},
   "source": [
    "## <center><span style='font-family: Georgia; color:#088484' >Project 1 - Master thesis \n",
    "    \n",
    "\n",
    "### <center><span style='font-family: Georgia; color:#088484' > Advanced age slows learning to balance with unexpected sensorimotor delays\n",
    "\n",
    "    \n"
   ]
  },
  {
   "cell_type": "markdown",
   "id": "f76dd316",
   "metadata": {},
   "source": [
    "<span style='font-family: Georgia' > **Description:**\n",
    "    <br>For my master project I studied standing balance with an imposed delay using a robotic balance simulation. \n",
    "    <br>During this project I conducted experiments with around 60 human partipants; young, elderly and patients. \n",
    "     <br>Furthermore, I analysed the data and developed my own algorithms to characterize the balance behaviour (i.e. Time-frequency analysis, exponential and Bode fiting). \n",
    "    <br> I presented my findings during the Dutch Neuroscience Meeting 2023 (see Poster below) and they are published in a research paper.\n",
    "\n",
    "\n",
    "<span style='font-family: Georgia' ><br>  **Skills needed:**  \n",
    "* <span style='font-family: Georgia' >Research, Experimental design\n",
    "* <span style='font-family: Georgia' >Data visualisation, Advanced data analysis\n",
    "* <span style='font-family: Georgia' >Pipeline automatization and optimalisation, Dynamic programming, Matlab, LabVIEW\n",
    "\n",
    "<span style='font-family: Georgia' ><br>**Link:** <a href = \"pdfs\\445251vanderZalm_MasterThesis.pdf\"> Master thesis </a>, <a href = \"https://www.frontiersin.org/articles/10.3389/fnagi.2023.1325012/full\"> Published paper </a>"
   ]
  },
  {
   "cell_type": "markdown",
   "id": "c12c2d0c",
   "metadata": {},
   "source": [
    "### <center><span style='font-family: Georgia; color:Black' >_Poster made for the Dutch Neuroscience Meeting 2023_\n",
    "\n",
    "\n",
    "<center><img src=\"Pictures/Poster_DNM.PNG\" width=\"900\" /><center> \n"
   ]
  },
  {
   "cell_type": "markdown",
   "id": "6ce20809",
   "metadata": {},
   "source": [
    "## <center><span style='font-family: Georgia; color:#088484' >Project 2 - Bachelor thesis\n",
    "\n",
    "### <center><span style='font-family: Georgia; color:#088484' > Implementing linear discriminant analysis to identify core in a murine autism model.\n"
   ]
  },
  {
   "cell_type": "markdown",
   "id": "80b5f7eb",
   "metadata": {},
   "source": [
    "<span style='font-family: Georgia' > **Description:** \n",
    "    <br> For my Bachelor End Project I developed a meta-analysis pipeline to define the features that characterize the difference between 2 experimental groups.\n",
    "   <br> The features were extracted from a broad collection of multiple different experiments. \n",
    "     <br>This was done using a combinations of Linear Discriminant Analysis, supervised learning, \n",
    "    <br>and Principal Component Analysis, unsupervised Learning.\n",
    "    <br> Additionally, I developed my own validation methods.\n",
    "    <br> My work was published in a research paper.\n",
    "\n",
    "<span style='font-family: Georgia' ><br>  **Skills needed:**  \n",
    "* <span style='font-family: Georgia' >Machine learning, Meta analysis\n",
    "* <span style='font-family: Georgia' >Data visualisation, Advanced data analysis\n",
    "* <span style='font-family: Georgia' >Pipeline automatization and optimalisation, Dynamic programming, Matlab\n",
    "\n",
    "<span style='font-family: Georgia' ><br> **Links:** <a href = \"pdfs/Thesis_Christian_van_der_Zalm_4541979.pdf\"> Bachelor thesis </a>, <a href =\"https://www.sciencedirect.com/science/article/pii/S2666354621001800\"> Published paper </a>\n",
    "    "
   ]
  },
  {
   "cell_type": "markdown",
   "id": "ad90ae3e",
   "metadata": {},
   "source": [
    "### <center><span style='font-family: Georgia; color:Black' >_Developed Pipeline for Linear Discriminant application_\n",
    "<center><img src=\"./Pictures/LDA_Pipeline.PNG\" width=\"800\" /><center>\n",
    "\n",
    "### <center><span style='font-family: Georgia; color:Black' ><br>_Visual representation of multi-dimensionality of applying LDA on PCA data_\n",
    "<center><img src=\"Pictures/LDA_PCA.PNG\" width=\"500\" /><center>\n",
    "\n",
    "\n",
    "### <center><span style='font-family: Georgia; color:Black' ><br>_General output using all components_\n",
    "<center><img src=\"Pictures/LDA_graph.PNG\" width=\"1000\" /><center>\n",
    "\n",
    "\n",
    "### <center><span style='font-family: Georgia; color:Black' ><br>_General output using the 10 best components_\n",
    "<center><img src=\"Pictures/LDA_graph_10.PNG\" width=\"1000\" /><center> "
   ]
  },
  {
   "cell_type": "markdown",
   "id": "a97f0fc3",
   "metadata": {},
   "source": [
    "##  <center><span style='font-family: Georgia; color:#088484' >Project 3 - Interactive map of geographic clustering for delivery"
   ]
  },
  {
   "cell_type": "markdown",
   "id": "5820f2df",
   "metadata": {},
   "source": [
    "<span style='font-family: Georgia' > **Description:** \n",
    "    <br>A program to interactively visualize and divide orders into the optimized amount of groups using k-means clustering.\n",
    "Features:\n",
    "* <span style='font-family: Georgia' >Selecting and hiding clusters of orders\n",
    "* <span style='font-family: Georgia' >Clustering is done automatically based on k-mean clustering optimization \n",
    "* <span style='font-family: Georgia' >Cluster are labelled automatically based on the neighbourhood of the centre of the cluster\n",
    "* <span style='font-family: Georgia' >Each order displays specific information when clicked on\n",
    "\n",
    "<span style='font-family: Georgia' ><br>**Skill needed:**\n",
    "* <span style='font-family: Georgia' >Python, k-mean clustering, scikit-learn, seaborn, pandas, numpy\n",
    "* <span style='font-family: Georgia' >Geographical visualisation, optimization, GUI \n",
    "* <span style='font-family: Georgia' > Software Engineering, Data Analysis\n",
    "\n",
    "**Link:** <a href = \"https://github.com/ChristianvdZalm/Portfolio/tree/main/Projects/Geograpical_Clustering\"> Geograpical Clustering Project</a>, <a href = \"pdfs\\Geograpical_clustering.html\"> HTML example </a>\n",
    "\n"
   ]
  },
  {
   "cell_type": "markdown",
   "id": "be4b8cad",
   "metadata": {},
   "source": [
    "### <center><span style='font-family: Georgia; color:Black' >_Screenshot of html output_\n",
    "<center><img src=\"Pictures/Geo_clustering.PNG\" width=\"500\" /><center>\n",
    "    \n",
    "### <center><span style='font-family: Georgia; color:Black' ><br>_Sum of squares used to analyse optimal amount of clusters_\n",
    "<center><img src=\"Pictures/Clustergraph.PNG\" width=\"500\" /><center> \n",
    "    \n",
    "### <center><span style='font-family: Georgia; color:Black' ><br>_Different clustering depending on the amount of cluster_\n",
    "<center><img src=\"Pictures/cluster_analysis.PNG\" width=\"1000\" /><center>"
   ]
  },
  {
   "cell_type": "markdown",
   "id": "5e722937",
   "metadata": {},
   "source": [
    "##  <center><span style='font-family: Georgia; color:#088484' >Project 4 - CheckChick\n",
    "###  <center><span style='font-family: Georgia; color:#088484' > A pomodoro work assistant"
   ]
  },
  {
   "cell_type": "markdown",
   "id": "ff7b0095",
   "metadata": {},
   "source": [
    "**Description:** A program made in python to help the user divide their work hours and have a good work-life balance, following the pomodoro method. Features:\n",
    "* <span style='font-family: Georgia' >Custom settings for work timer, break timer and amount of work periods\n",
    "* <span style='font-family: Georgia' >Interactive mascot feedback\n",
    "* <span style='font-family: Georgia' >meditation break\n",
    "* <span style='font-family: Georgia' >motivational quotes display\n",
    "\n",
    "\n",
    "<span style='font-family: Georgia' ><br>**Skills needed:**\n",
    "* <span style='font-family: Georgia' >Python, Git\n",
    "* <span style='font-family: Georgia' >Software Engineering, Software Architecture, GUI Design\n",
    "\n",
    "<span style='font-family: Georgia' ><br>**Link:** <a href = \"https://github.com/ChristianvdZalm/Portfolio/tree/main/Projects/CheckChick\"> Github project</a>"
   ]
  },
  {
   "cell_type": "markdown",
   "id": "75cd00bf",
   "metadata": {},
   "source": [
    "### <center><span style='font-family: Georgia; color:Black' ><br>_Video explanation_\n",
    "<left><video width=\" \" height=\" \" \n",
    "       src=\"Videos\\checkchickmp4.mp4\" \n",
    "       controls>\n",
    "</video>"
   ]
  },
  {
   "cell_type": "markdown",
   "id": "2279d53e",
   "metadata": {},
   "source": [
    "### <center><span style='font-family: Georgia; color:Black' ><br>_Configuration screen_\n",
    "<center><img src=\"Pictures/CheckChick/Checkchick_config.png\" width=\"1000\" /><center> \n"
   ]
  },
  {
   "cell_type": "markdown",
   "id": "e9f793f0",
   "metadata": {},
   "source": [
    "### <center><span style='font-family: Georgia; color:Black' ><br>_Break screen_<center>\n",
    "<center><img src=\"Pictures/CheckChick/Checkchick_break.png\" width=\"1000\" /><center> \n"
   ]
  },
  {
   "cell_type": "markdown",
   "id": "e8318fc3",
   "metadata": {},
   "source": [
    "### <center><span style='font-family: Georgia; color:Black' ><br>_State diagram_\n",
    "<center><img src=\"Pictures/CheckChick/Statediagram_CheckChick_2.JPG\" width=\"1000\" /><center> "
   ]
  },
  {
   "cell_type": "markdown",
   "id": "52797397",
   "metadata": {},
   "source": [
    "##  <center><span style='font-family: Georgia; color:#088484' >Project Collection: Making games\n",
    "###  <center><span style='font-family: Georgia; color:#088484' >Applying data analysis, programming and software engineering"
   ]
  },
  {
   "cell_type": "markdown",
   "id": "109ada9c",
   "metadata": {},
   "source": [
    "<center><span style='font-family: Georgia; color:Black' > To keep developing my skills in Object Oriented Programming, learning new programming languages, <br>software engineering, data handling and many other important skills, I created a couple of games. <br>Here follows a list of some of them:"
   ]
  },
  {
   "cell_type": "markdown",
   "id": "9b2c0aee",
   "metadata": {},
   "source": [
    "###  <center><span style='font-family: Georgia; color:#088484' >Game 1: Wandering Woods"
   ]
  },
  {
   "cell_type": "markdown",
   "id": "572e6295",
   "metadata": {},
   "source": [
    "<span style='font-family: Georgia' >**Description:** \n",
    "    <br>A platform and puzzle game, written in C# and made in Unity taking place in 2D and 3D environments. All the visual art and music is also self made.\n",
    "\n",
    "<span style='font-family: Georgia' ><br>**Skills needed:**\n",
    "* <span style='font-family: Georgia' >C#, ,Git, Object Oriented Programming\n",
    "* <span style='font-family: Georgia' >3D modeling, Software Engineering, GameDev \n",
    "* <span style='font-family: Georgia' >Music composing, 2D art, Unity\n"
   ]
  },
  {
   "cell_type": "markdown",
   "id": "df62f65b",
   "metadata": {},
   "source": [
    "### <center><span style='font-family: Georgia; color:Black'>_Demo of Wandering Woods_\n",
    "<left><video width=\" \" height=\" \" \n",
    "       src=\"Videos/Wandering Woods.mp4\" \n",
    "       controls>\n",
    "</video>"
   ]
  },
  {
   "cell_type": "markdown",
   "id": "2f0a5b8e",
   "metadata": {},
   "source": [
    "###  <center><span style='font-family: Georgia; color:#088484' >Game 2: Delay tracking game"
   ]
  },
  {
   "cell_type": "markdown",
   "id": "4c434fe6",
   "metadata": {},
   "source": [
    "<span style='font-family: Georgia' >**Description:** \n",
    "    <br>As my master project was about standing balance with an imposed delay, we wanted to see if this delay transfers to other modalities, i.e. arm movement.\n",
    "    <br>For this I developed a task where the user needs to trace a target, which follows a pseudorandom sum of sines.\n",
    "    <br> It is possible to turn off/on the delay and change the delay magnitude, while the mouse is moving, without an distortion in the path. \n",
    "    <br>Thus making transfer between delay states unnoticable for the user.\n",
    "\n",
    "<span style='font-family: Georgia' ><br>**Skills needed:**\n",
    "* <span style='font-family: Georgia' >C#, Object Oriented Programming\n",
    "* <span style='font-family: Georgia' > Mathematical implemetations, GUI"
   ]
  },
  {
   "cell_type": "markdown",
   "id": "64c6430f",
   "metadata": {},
   "source": [
    "###  <center><span style='font-family: Georgia; color:Black' >_Demo of delay tracking task_\n",
    "    \n",
    " <left><video width=\"640\" height=\"360\" \n",
    "       src=\"Videos/DelayTracking.mp4\"\n",
    "       controls>\n",
    "</video>"
   ]
  },
  {
   "cell_type": "markdown",
   "id": "7d61d4af",
   "metadata": {},
   "source": [
    "###  <center><span style='font-family: Georgia; color:#088484' >Game 3: Text based minigames"
   ]
  },
  {
   "cell_type": "markdown",
   "id": "01dacd03",
   "metadata": {},
   "source": [
    "<span style='font-family: Georgia' >**Description:** \n",
    "    <br>A collection of text based minigames. One of them is about being in an Romanian Inn and playing card games. Features:\n",
    "* <span style='font-family: Georgia' >Fair card game with bot having its own deck of cards\n",
    "* <span style='font-family: Georgia' >Bot has a change to lie\n",
    "* <span style='font-family: Georgia' >Each time the game resets, the text prompts get more difficult to read\n",
    "\n",
    "\n",
    "<span style='font-family: Georgia' ><br>**Skills needed:**\n",
    "* <span style='font-family: Georgia' >Python, Objected Oriented programming \n",
    "* <span style='font-family: Georgia' >numpy, Software architecture"
   ]
  },
  {
   "cell_type": "markdown",
   "id": "aeccff09",
   "metadata": {},
   "source": [
    "    \n",
    " <left><video width=\"640\" height=\"360\" \n",
    "       src=\"Videos/Minigames.mp4\" \n",
    "       controls>\n",
    "</video>"
   ]
  },
  {
   "cell_type": "markdown",
   "id": "f802b9fe",
   "metadata": {},
   "source": [
    "###  <center><span style='font-family: Georgia; color:#088484' >Game 4: Text based cooking game"
   ]
  },
  {
   "cell_type": "markdown",
   "id": "e13079d6",
   "metadata": {},
   "source": [
    "<span style='font-family: Georgia' >**Description:** \n",
    "    <br>Based on different games in the cooking genre, I made a text-based game where one can cook their own food by moving through the restaurant and performing actions/gathering ingredients.\n",
    "Features:\n",
    "* <span style='font-family: Georgia' >Each location in the game has its own assigned actions and inventory\n",
    "* <span style='font-family: Georgia' >Each recipe requires the player to follow a specific path/recipe\n",
    "* <span style='font-family: Georgia' >Food can burn and need to be extinguished\n",
    "\n",
    "\n",
    "<span style='font-family: Georgia' ><br>**Skills needed:**\n",
    "* <span style='font-family: Georgia' >Python, Objected Oriented programming \n",
    "* <span style='font-family: Georgia' >numpy, Software architecture"
   ]
  },
  {
   "cell_type": "markdown",
   "id": "b893d810",
   "metadata": {},
   "source": [
    "    \n",
    " <left><video width=\"640\" height=\"360\" \n",
    "       src=\"Videos/Cooking_game.mp4\" \n",
    "       controls>\n",
    "</video>\n",
    "    "
   ]
  },
  {
   "cell_type": "markdown",
   "id": "a8aa9c84",
   "metadata": {},
   "source": [
    "##  <center><span style='font-family: Georgia; color:#088484' >Game visualisation: Procedurally generated terrain"
   ]
  },
  {
   "cell_type": "markdown",
   "id": "70a9be74",
   "metadata": {},
   "source": [
    "<span style='font-family: Georgia' >**Description:** \n",
    "    <br>To learn more about the mathematics behind procedurally generated maps, I developed a map program that uses Perlin noise to procedurally generate terrain. (following a <a href = \"https://www.youtube.com/watch?v=wbpMiKiSKm8&list=PLFt_AvWsXl0eBW2EiBtl_sxmDtSgZBxB3\">  tutorial</a> ).\n",
    "    <br> I made it possible to change the noise scale, octaves, persistance, lacunarity, seed and offset to let the user transform the map as they want.\n",
    "\n",
    "<span style='font-family: Georgia' ><br>**Skills needed:**\n",
    "* <span style='font-family: Georgia' >C#,  GUI.\n",
    "* <span style='font-family: Georgia' >Object Oriented Programming, mathematical understanding"
   ]
  },
  {
   "cell_type": "markdown",
   "id": "ad68b2f8",
   "metadata": {},
   "source": [
    "##  <center><span style='font-family: Georgia; color:Black' >_Example of procedurally generated map_"
   ]
  },
  {
   "cell_type": "markdown",
   "id": "154357ac",
   "metadata": {},
   "source": [
    "\n",
    " <left><video width=\"640\" height=\"360\" \n",
    "       src=\"Videos/procedural terrain generation.mp4\" \n",
    "       controls>\n",
    "</video>"
   ]
  },
  {
   "cell_type": "markdown",
   "id": "d461e83e",
   "metadata": {},
   "source": [
    "##  <center><span style='font-family: Georgia; color:#088484' >Other projects: Art"
   ]
  },
  {
   "cell_type": "markdown",
   "id": "2281e266",
   "metadata": {},
   "source": [
    "###  <center><span style='font-family: Georgia; color:#088484' >3D scene fully selfmade and rendered in Blender\n",
    "<center><img src=\"Pictures/Boat_night_barrel.png\" width=\"1000\" /><center>"
   ]
  },
  {
   "cell_type": "markdown",
   "id": "24c9b834",
   "metadata": {},
   "source": [
    "###  <center><span style='font-family: Georgia; color:#088484' > One of my compositions\n",
    "<audio width=\" \" height=\" \"\n",
    "       src=\"Videos/Winterbreak.wav\"  \n",
    "       controls>\n",
    "</audio>"
   ]
  },
  {
   "cell_type": "markdown",
   "id": "19f73d7a",
   "metadata": {},
   "source": [
    "##  <center><span style='font-family: Georgia; color:#088484' >IN PROGRESS: AI with FASTAI"
   ]
  },
  {
   "cell_type": "markdown",
   "id": "fa283f78",
   "metadata": {},
   "source": [
    "**Description:** \n",
    "\n",
    "**Skills needed:**\n",
    "\n",
    "**Link:**"
   ]
  },
  {
   "cell_type": "markdown",
   "id": "16729c72",
   "metadata": {},
   "source": [
    "---"
   ]
  }
 ],
 "metadata": {
  "kernelspec": {
   "display_name": "Python 3 (ipykernel)",
   "language": "python",
   "name": "python3"
  },
  "language_info": {
   "codemirror_mode": {
    "name": "ipython",
    "version": 3
   },
   "file_extension": ".py",
   "mimetype": "text/x-python",
   "name": "python",
   "nbconvert_exporter": "python",
   "pygments_lexer": "ipython3",
   "version": "3.11.5"
  }
 },
 "nbformat": 4,
 "nbformat_minor": 5
}
