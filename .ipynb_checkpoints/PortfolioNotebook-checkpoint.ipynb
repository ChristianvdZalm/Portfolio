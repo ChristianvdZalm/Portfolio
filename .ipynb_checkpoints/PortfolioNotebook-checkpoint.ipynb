{
 "cells": [
  {
   "cell_type": "markdown",
   "id": "0878c1ec",
   "metadata": {},
   "source": [
    "# Project Name: Interactive map"
   ]
  },
  {
   "cell_type": "markdown",
   "id": "a8918efd",
   "metadata": {},
   "source": [
    "**Demo Geographical clustering on mobile**\n",
    "\n",
    "<video width=\"720\" height=\"320\" \n",
    "       src=\".\\Videos\\testvideo.mp4\"  \n",
    "       controls>\n",
    "</video>"
   ]
  },
  {
   "cell_type": "code",
   "execution_count": null,
   "id": "e2a553d1",
   "metadata": {},
   "outputs": [],
   "source": []
  }
 ],
 "metadata": {
  "kernelspec": {
   "display_name": "Python 3 (ipykernel)",
   "language": "python",
   "name": "python3"
  },
  "language_info": {
   "codemirror_mode": {
    "name": "ipython",
    "version": 3
   },
   "file_extension": ".py",
   "mimetype": "text/x-python",
   "name": "python",
   "nbconvert_exporter": "python",
   "pygments_lexer": "ipython3",
   "version": "3.11.5"
  }
 },
 "nbformat": 4,
 "nbformat_minor": 5
}
